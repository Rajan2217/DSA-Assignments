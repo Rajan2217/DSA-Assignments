{
 "cells": [
  {
   "cell_type": "code",
   "execution_count": 2,
   "metadata": {},
   "outputs": [
    {
     "name": "stdout",
     "output_type": "stream",
     "text": [
      "[1, 2]\n"
     ]
    }
   ],
   "source": [
    "# 1\n",
    "def two_sum(numbers, target):\n",
    "    left, right = 0, len(numbers) - 1\n",
    "    while left < right:\n",
    "        current_sum = numbers[left] + numbers[right]\n",
    "        if current_sum == target:\n",
    "            return [left + 1, right + 1]  # Adding 1 to adjust for 1-indexed array\n",
    "        elif current_sum < target:\n",
    "            left += 1\n",
    "        else:\n",
    "            right -= 1\n",
    "\n",
    "# Test case\n",
    "numbers = [2, 7, 11, 15]\n",
    "target = 9\n",
    "print(two_sum(numbers, target))  # Output: [1, 2]\n"
   ]
  },
  {
   "cell_type": "code",
   "execution_count": 3,
   "metadata": {},
   "outputs": [
    {
     "name": "stdout",
     "output_type": "stream",
     "text": [
      "[3, 4]\n"
     ]
    }
   ],
   "source": [
    "# 2\n",
    "def search_range(nums, target):\n",
    "    left, right = 0, len(nums) - 1\n",
    "\n",
    "    # Find the first occurrence of target\n",
    "    while left <= right:\n",
    "        mid = left + (right - left) // 2\n",
    "        if nums[mid] == target:\n",
    "            while mid > 0 and nums[mid - 1] == target:\n",
    "                mid -= 1\n",
    "            break\n",
    "        elif nums[mid] < target:\n",
    "            left = mid + 1\n",
    "        else:\n",
    "            right = mid - 1\n",
    "\n",
    "    if left > right:\n",
    "        return [-1, -1]\n",
    "\n",
    "    first_occurrence = mid\n",
    "\n",
    "    # Find the last occurrence of target\n",
    "    left, right = 0, len(nums) - 1\n",
    "    while left <= right:\n",
    "        mid = left + (right - left) // 2\n",
    "        if nums[mid] == target:\n",
    "            while mid < len(nums) - 1 and nums[mid + 1] == target:\n",
    "                mid += 1\n",
    "            break\n",
    "        elif nums[mid] < target:\n",
    "            left = mid + 1\n",
    "        else:\n",
    "            right = mid - 1\n",
    "\n",
    "    last_occurrence = mid\n",
    "\n",
    "    return [first_occurrence, last_occurrence]\n",
    "\n",
    "# Test case\n",
    "nums = [5, 7, 7, 8, 8, 10]\n",
    "target = 8\n",
    "print(search_range(nums, target))  # Output: [3, 4]\n"
   ]
  },
  {
   "cell_type": "code",
   "execution_count": 4,
   "metadata": {},
   "outputs": [
    {
     "name": "stdout",
     "output_type": "stream",
     "text": [
      "2\n"
     ]
    }
   ],
   "source": [
    "# 3\n",
    "def find_peak_element(nums):\n",
    "    left, right = 0, len(nums) - 1\n",
    "    while left < right:\n",
    "        mid = left + (right - left) // 2\n",
    "        if nums[mid] > nums[mid + 1]:\n",
    "            right = mid\n",
    "        else:\n",
    "            left = mid + 1\n",
    "    return left\n",
    "\n",
    "# Test case\n",
    "nums = [1, 2, 3, 1]\n",
    "print(find_peak_element(nums))  # Output: 2\n"
   ]
  },
  {
   "cell_type": "code",
   "execution_count": 5,
   "metadata": {},
   "outputs": [
    {
     "name": "stdout",
     "output_type": "stream",
     "text": [
      "2\n",
      "4\n"
     ]
    }
   ],
   "source": [
    "# 4\n",
    "def search_insert(nums, target):\n",
    "    left, right = 0, len(nums) - 1\n",
    "    while left <= right:\n",
    "        mid = left + (right - left) // 2\n",
    "        if nums[mid] == target:\n",
    "            return mid\n",
    "        elif nums[mid] < target:\n",
    "            left = mid + 1\n",
    "        else:\n",
    "            right = mid - 1\n",
    "    return left\n",
    "\n",
    "# Test cases\n",
    "nums1 = [1, 3, 5, 6]\n",
    "target1 = 5\n",
    "print(search_insert(nums1, target1))  # Output: 2\n",
    "\n",
    "nums2 = [1, 3, 5, 6]\n",
    "target2 = 7\n",
    "print(search_insert(nums2, target2))  # Output: 4\n"
   ]
  },
  {
   "cell_type": "code",
   "execution_count": 6,
   "metadata": {},
   "outputs": [
    {
     "name": "stdout",
     "output_type": "stream",
     "text": [
      "4\n"
     ]
    }
   ],
   "source": [
    "# 5\n",
    "def majority_element(nums):\n",
    "    candidate = None\n",
    "    count = 0\n",
    "    for num in nums:\n",
    "        if count == 0:\n",
    "            candidate = num\n",
    "            count = 1\n",
    "        elif num == candidate:\n",
    "            count += 1\n",
    "        else:\n",
    "            count -= 1\n",
    "\n",
    "    # Verify if the candidate is a majority element\n",
    "    count = 0\n",
    "    for num in nums:\n",
    "        if num == candidate:\n",
    "            count += 1\n",
    "\n",
    "    return candidate if count > len(nums) // 2 else None\n",
    "\n",
    "# Test case\n",
    "A = [3, 3, 4, 2, 4, 4, 2, 4, 4]\n",
    "print(majority_element(A))  # Output: 4\n"
   ]
  },
  {
   "cell_type": "code",
   "execution_count": 13,
   "metadata": {},
   "outputs": [
    {
     "name": "stdout",
     "output_type": "stream",
     "text": [
      "5\n"
     ]
    }
   ],
   "source": [
    "# 6\n",
    "def isBadVersion(version):\n",
    "    # This function is given by the problem and returns True if the version is bad, False otherwise.\n",
    "    pass\n",
    "\n",
    "def first_bad_version(n):\n",
    "    left, right = 1, n\n",
    "\n",
    "    while left < right:\n",
    "        mid = left + (right - left) // 2\n",
    "\n",
    "        if isBadVersion(mid):\n",
    "            right = mid\n",
    "        else:\n",
    "            left = mid + 1\n",
    "\n",
    "    return left\n",
    "\n",
    "# Test case\n",
    "n = 5\n",
    "bad = 4\n",
    "print(first_bad_version(n))  # Output: 4\n"
   ]
  },
  {
   "cell_type": "code",
   "execution_count": 8,
   "metadata": {},
   "outputs": [
    {
     "name": "stdout",
     "output_type": "stream",
     "text": [
      "3\n"
     ]
    }
   ],
   "source": [
    "# 7\n",
    "def count_inversions(arr):\n",
    "    def merge_sort(arr, temp, left, right):\n",
    "        if left >= right:\n",
    "            return 0\n",
    "\n",
    "        mid = (left + right) // 2\n",
    "        inv_count = merge_sort(arr, temp, left, mid)\n",
    "        inv_count += merge_sort(arr, temp, mid + 1, right)\n",
    "        inv_count += merge(arr, temp, left, mid, right)\n",
    "        return inv_count\n",
    "\n",
    "    def merge(arr, temp, left, mid, right):\n",
    "        i, j, k = left, mid + 1, left\n",
    "        inv_count = 0\n",
    "\n",
    "        while i <= mid and j <= right:\n",
    "            if arr[i] <= arr[j]:\n",
    "                temp[k] = arr[i]\n",
    "                i += 1\n",
    "            else:\n",
    "                temp[k] = arr[j]\n",
    "                j += 1\n",
    "                inv_count += (mid - i + 1)\n",
    "            k += 1\n",
    "\n",
    "        while i <= mid:\n",
    "            temp[k] = arr[i]\n",
    "            i += 1\n",
    "            k += 1\n",
    "\n",
    "        while j <= right:\n",
    "            temp[k] = arr[j]\n",
    "            j += 1\n",
    "            k += 1\n",
    "\n",
    "        for idx in range(left, right + 1):\n",
    "            arr[idx] = temp[idx]\n",
    "\n",
    "        return inv_count\n",
    "\n",
    "    temp = [0] * len(arr)\n",
    "    return merge_sort(arr, temp, 0, len(arr) - 1)\n",
    "\n",
    "# Test case\n",
    "arr = [2, 4, 1, 3, 5]\n",
    "print(count_inversions(arr)) \n"
   ]
  },
  {
   "cell_type": "code",
   "execution_count": 11,
   "metadata": {},
   "outputs": [
    {
     "name": "stdout",
     "output_type": "stream",
     "text": [
      "Output: 20 80 "
     ]
    }
   ],
   "source": [
    "# 8\n",
    "def find_common_elements(arr1, arr2, arr3):\n",
    "    i, j, k = 0, 0, 0\n",
    "\n",
    "    while i < len(arr1) and j < len(arr2) and k < len(arr3):\n",
    "        if arr1[i] == arr2[j] == arr3[k]:\n",
    "            print(arr1[i], end=\" \")\n",
    "            i += 1\n",
    "            j += 1\n",
    "            k += 1\n",
    "        elif arr1[i] < arr2[j]:\n",
    "            i += 1\n",
    "        elif arr2[j] < arr3[k]:\n",
    "            j += 1\n",
    "        else:\n",
    "            k += 1\n",
    "\n",
    "# Test case\n",
    "ar1 = [1, 5, 10, 20, 40, 80]\n",
    "ar2 = [6, 7, 20, 80, 100]\n",
    "ar3 = [3, 4, 15, 20, 30, 70, 80, 120]\n",
    "\n",
    "print(\"Output:\", end=\" \")\n",
    "find_common_elements(ar1, ar2, ar3)  # Output: 20 80\n"
   ]
  },
  {
   "cell_type": "code",
   "execution_count": null,
   "metadata": {},
   "outputs": [],
   "source": []
  }
 ],
 "metadata": {
  "kernelspec": {
   "display_name": "base",
   "language": "python",
   "name": "python3"
  },
  "language_info": {
   "codemirror_mode": {
    "name": "ipython",
    "version": 3
   },
   "file_extension": ".py",
   "mimetype": "text/x-python",
   "name": "python",
   "nbconvert_exporter": "python",
   "pygments_lexer": "ipython3",
   "version": "3.10.9"
  },
  "orig_nbformat": 4
 },
 "nbformat": 4,
 "nbformat_minor": 2
}
